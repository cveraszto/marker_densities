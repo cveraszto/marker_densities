{
 "cells": [
  {
   "cell_type": "code",
   "execution_count": null,
   "metadata": {},
   "outputs": [],
   "source": [
    "import numpy as np\n",
    "import nrrd\n",
    "import json\n",
    "from os.path import *\n",
    "from JSONread import *\n",
    "from density_function import export_volumes, get_neuron_counts\n",
    "\n",
    "DATA_FOLDER = \"data/\"\n",
    "OUTPUT_FOLDER = \"output/\""
   ]
  },
  {
   "cell_type": "code",
   "execution_count": null,
   "metadata": {},
   "outputs": [],
   "source": [
    "annotation, h = nrrd.read(join(DATA_FOLDER, \"annotations.nrrd\"))\n",
    "neu_dens, h = nrrd.read(join(DATA_FOLDER, \"neu_density.nrrd\"))\n",
    "# neu_dens, h = nrrd.read(join(OUTPUT_FOLDER, \"densities_GAD.nrrd\"))\n",
    "# neu_dens *=25**3/1.0e9\n",
    "jsontextfile = open(join(DATA_FOLDER, \"brain_regions.json\"), \"r\")\n",
    "jsoncontent = json.loads(jsontextfile.read())\n",
    "search_children(jsoncontent['msg'][0])"
   ]
  },
  {
   "cell_type": "code",
   "execution_count": null,
   "metadata": {},
   "outputs": [],
   "source": [
    "# Computes regions volume\n",
    "rv = export_volumes(annotation, is_leaf,\n",
    "                   id_to_region_dictionary_ALLNAME, region_dictionary_to_id_ALLNAME,\n",
    "                   region_dictionary_to_id_ALLNAME_parent, name2allname)\n",
    "with open(join(DATA_FOLDER, \"volumes_25.json\"), 'w') as fp:\n",
    "        json.dump(rv, fp, indent=4)"
   ]
  },
  {
   "cell_type": "code",
   "execution_count": null,
   "metadata": {},
   "outputs": [],
   "source": [
    "# Computes regions counts\n",
    "num_neurons =get_neuron_counts(annotation, neu_dens,\n",
    "                              id_to_region_dictionary_ALLNAME, is_leaf,\n",
    "                              region_dictionary_to_id_ALLNAME,\n",
    "                              region_dictionary_to_id_ALLNAME_parent,\n",
    "                              name2allname)\n",
    "with open(join(DATA_FOLDER, \"neuron_counts.json\"), 'w') as fp:\n",
    "# with open(join(OUTPUT_FOLDER, \"gad_counts.json\"), 'w') as fp:\n",
    "        json.dump(num_neurons, fp, indent=4)"
   ]
  },
  {
   "cell_type": "code",
   "execution_count": null,
   "metadata": {},
   "outputs": [],
   "source": []
  }
 ],
 "metadata": {
  "kernelspec": {
   "display_name": "Python 3",
   "language": "python",
   "name": "python3"
  },
  "language_info": {
   "codemirror_mode": {
    "name": "ipython",
    "version": 3
   },
   "file_extension": ".py",
   "mimetype": "text/x-python",
   "name": "python",
   "nbconvert_exporter": "python",
   "pygments_lexer": "ipython3",
   "version": "3.6.9"
  }
 },
 "nbformat": 4,
 "nbformat_minor": 4
}
