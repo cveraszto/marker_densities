{
 "cells": [
  {
   "cell_type": "code",
   "execution_count": null,
   "metadata": {},
   "outputs": [],
   "source": [
    "import numpy as np\n",
    "import nrrd\n",
    "from os.path import *\n",
    "from pylab import *\n",
    "from matplotlib import patches\n",
    "from JSONread import *\n",
    "from density_function import *\n",
    "import xlrd\n",
    "import json\n",
    "\n",
    "DATA_FOLDER = \"data/\"\n",
    "OUTPUT_FOLDER = \"output/\""
   ]
  },
  {
   "cell_type": "code",
   "execution_count": null,
   "metadata": {},
   "outputs": [],
   "source": [
    "SMALL_SIZE = 24\n",
    "BIGGER_SIZE = 30\n",
    "\n",
    "plt.rc('font', size=SMALL_SIZE)          # controls default text sizes\n",
    "plt.rc('figure', titlesize=BIGGER_SIZE)  # fontsize of the figure title"
   ]
  },
  {
   "cell_type": "code",
   "execution_count": null,
   "metadata": {},
   "outputs": [],
   "source": [
    "# Loading annotations\n",
    "annotation, h = nrrd.read(join(DATA_FOLDER, \"annotations.nrrd\"))\n",
    "jsontextfile = open(join(DATA_FOLDER, \"brain_regions.json\"), \"r\")\n",
    "jsoncontent = json.loads(jsontextfile.read())\n",
    "search_children(jsoncontent['msg'][0])"
   ]
  },
  {
   "cell_type": "code",
   "execution_count": null,
   "metadata": {},
   "outputs": [],
   "source": [
    "num_neurons = json.loads(open(join(DATA_FOLDER, \"neuron_counts.json\"), \"r\").read())\n",
    "# num_gad = json.loads(open(join(OUTPUT_FOLDER, \"gad_counts.json\"), \"r\").read())\n",
    "# for k, v in num_neurons.items():\n",
    "#     num_neurons[k] = v - num_gad[k] * 25**3/1.0e9"
   ]
  },
  {
   "cell_type": "code",
   "execution_count": null,
   "metadata": {},
   "outputs": [],
   "source": [
    "wb = xlrd.open_workbook(join(DATA_FOLDER, \"gaba_papers.xlsx\")) \n",
    "hasInfo = np.zeros(len(region_keys), dtype=np.bool)\n",
    "for i_sheet in range(2):\n",
    "    sheet = wb.sheet_by_index(i_sheet)\n",
    "    for i_region in range(sheet.nrows-1):\n",
    "        name = sheet.cell_value(i_region+1, 0).replace(\"È\", \"e\")\n",
    "        if name in region_keys:\n",
    "            hasInfo[region_keys.index(name)] = 1\n",
    "        else:\n",
    "            print(name)\n",
    "for i, kkk in enumerate(region_keys):\n",
    "    if not hasInfo[i]:\n",
    "        parent_ = region_dictionary_to_id_parent[kkk]\n",
    "        while parent_ != \"\":\n",
    "            if hasInfo[region_keys.index(parent_)]:\n",
    "                hasInfo[i] = True\n",
    "                break\n",
    "            parent_ = region_dictionary_to_id_parent[parent_]"
   ]
  },
  {
   "cell_type": "code",
   "execution_count": null,
   "metadata": {},
   "outputs": [],
   "source": [
    "without_cereb = False\n",
    "show_known = True \n",
    "\n",
    "if show_known:\n",
    "    loc_hasInfo = hasInfo\n",
    "    title_ = \"Literature coverage for GAD67 densities in the mouse brain\"\n",
    "    filename = \"literature_coverage\"\n",
    "else: \n",
    "    loc_hasInfo = None\n",
    "    title_ = \"Distribution of the neurons in the mouse brain\"\n",
    "#     title_ = \"Distribution of the Excitatory neurons in the mouse brain\"\n",
    "    filename = \"neu_counts\" \n",
    "#     filename = \"exc_counts\"\n",
    "if without_cereb:\n",
    "    filename+=\"_without_cereb\"\n",
    "\n",
    "filename = join(OUTPUT_FOLDER, filename)\n",
    "plot_circular_dens(num_neurons, title_, filename,\n",
    "                   name2allname, region_keys, region_dictionary_to_id,\n",
    "                   region_dictionary_to_id_parent, region_to_color,\n",
    "                   hasInfo=loc_hasInfo, without_cereb=without_cereb)"
   ]
  },
  {
   "cell_type": "code",
   "execution_count": null,
   "metadata": {},
   "outputs": [],
   "source": []
  }
 ],
 "metadata": {
  "kernelspec": {
   "display_name": "Python 3",
   "language": "python",
   "name": "python3"
  },
  "language_info": {
   "codemirror_mode": {
    "name": "ipython",
    "version": 3
   },
   "file_extension": ".py",
   "mimetype": "text/x-python",
   "name": "python",
   "nbconvert_exporter": "python",
   "pygments_lexer": "ipython3",
   "version": "3.6.9"
  }
 },
 "nbformat": 4,
 "nbformat_minor": 4
}
